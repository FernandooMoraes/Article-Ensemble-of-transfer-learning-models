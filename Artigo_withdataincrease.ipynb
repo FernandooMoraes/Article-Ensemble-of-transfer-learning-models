{
  "cells": [
    {
      "cell_type": "markdown",
      "metadata": {
        "id": "view-in-github",
        "colab_type": "text"
      },
      "source": [
        "<a href=\"https://colab.research.google.com/github/FernandooMoraes/Article-Ensemble-of-transfer-learning-models/blob/main/Artigo_withdataincrease.ipynb\" target=\"_parent\"><img src=\"https://colab.research.google.com/assets/colab-badge.svg\" alt=\"Open In Colab\"/></a>"
      ]
    },
    {
      "cell_type": "markdown",
      "metadata": {
        "id": "e3STtEo9ICfJ"
      },
      "source": [
        "#Pacotes utilizados\n",
        "\n"
      ]
    },
    {
      "cell_type": "code",
      "execution_count": null,
      "metadata": {
        "id": "HNkBhz4_IGQx"
      },
      "outputs": [],
      "source": [
        "import warnings\n",
        "warnings.filterwarnings('always')\n",
        "warnings.filterwarnings('ignore')\n",
        "import numpy as np\n",
        "import pandas as pd\n",
        "import matplotlib.pyplot as plt\n",
        "%matplotlib inline\n",
        "from tensorflow.keras.preprocessing.image import ImageDataGenerator\n",
        "from tensorflow.keras.models import Model, Sequential, load_model\n",
        "from tensorflow.keras.optimizers import Nadam\n",
        "from tensorflow.keras.utils import to_categorical\n",
        "from tensorflow.keras.layers import Dropout, Flatten, Input, Dense, ZeroPadding2D,Conv2D, MaxPooling2D, BatchNormalization, Activation\n",
        "import tensorflow as tf\n",
        "import cv2\n",
        "import os\n",
        "import glob\n",
        "import skimage.io\n",
        "import torchvision.models as models\n",
        "import zipfile\n",
        "import io\n",
        "from os import listdir\n",
        "from sklearn.metrics import confusion_matrix\n",
        "import imutils\n",
        "import time\n",
        "from random import shuffle\n",
        "from keras import losses\n",
        "from tensorflow.keras import losses\n",
        "import shutil\n",
        "import scipy.ndimage\n",
        "from skimage import morphology\n",
        "from skimage import measure\n",
        "from skimage.transform import resize\n",
        "from sklearn.cluster import KMeans\n",
        "from plotly import __version__\n",
        "from plotly.offline import download_plotlyjs, init_notebook_mode, plot, iplot\n",
        "from plotly.tools import FigureFactory as FF\n",
        "from plotly.graph_objs import *\n",
        "from tensorflow.keras.callbacks import TensorBoard, ModelCheckpoint,EarlyStopping\n",
        "from sklearn.metrics import f1_score\n",
        "from sklearn.utils import shuffle\n",
        "import cv2 as cv\n",
        "from PIL import Image, ImageDraw, ImageFilter\n",
        "from skimage.viewer import ImageViewer\n",
        "from skimage import filters\n",
        "from skimage.morphology import erosion, dilation, opening, closing, white_tophat,black_tophat, skeletonize, convex_hull_image,disk\n",
        "from skimage.data import data_dir\n",
        "from skimage.util import img_as_ubyte\n",
        "import copy\n",
        "from statistics import *\n",
        "from numpy import array\n",
        "from google.colab import files\n",
        "import pickle"
      ]
    },
    {
      "cell_type": "code",
      "execution_count": null,
      "metadata": {
        "id": "AF92qOcf3GfH"
      },
      "outputs": [],
      "source": [
        "from google.colab import drive\n",
        "drive.mount('/content/drive')"
      ]
    },
    {
      "cell_type": "markdown",
      "metadata": {
        "id": "Vf19yScLJrmx"
      },
      "source": [
        "#Upload da base de dados para o colab"
      ]
    },
    {
      "cell_type": "code",
      "execution_count": null,
      "metadata": {
        "colab": {
          "background_save": true
        },
        "id": "Bi48e4j3IeDC"
      },
      "outputs": [],
      "source": [
        "uploaded2 = files.upload()"
      ]
    },
    {
      "cell_type": "code",
      "execution_count": null,
      "metadata": {
        "id": "QAAMSUUvIvSQ"
      },
      "outputs": [],
      "source": [
        "data = zipfile.ZipFile('/content/fold0.zip', 'r')\n",
        "data.extractall()"
      ]
    },
    {
      "cell_type": "code",
      "execution_count": null,
      "metadata": {
        "id": "5NZWMOpo4uOx"
      },
      "outputs": [],
      "source": [
        "from google.colab import files\n",
        "uploaded2 = files.upload()"
      ]
    },
    {
      "cell_type": "code",
      "execution_count": null,
      "metadata": {
        "id": "4b0dcccl4wYJ"
      },
      "outputs": [],
      "source": [
        "data = zipfile.ZipFile('/content/teste.zip', 'r')\n",
        "data.extractall()"
      ]
    },
    {
      "cell_type": "markdown",
      "metadata": {
        "id": "DquIShqXy_uw"
      },
      "source": [
        "#Aumento de dados\n"
      ]
    },
    {
      "cell_type": "code",
      "execution_count": null,
      "metadata": {
        "id": "ciKyBrIazB1I"
      },
      "outputs": [],
      "source": [
        "import tensorflow as tf\n",
        "from keras.preprocessing.image import ImageDataGenerator\n",
        "import cv2\n",
        "import imutils\n",
        "import matplotlib.pyplot as plt\n",
        "from os import listdir\n",
        "import time"
      ]
    },
    {
      "cell_type": "code",
      "execution_count": null,
      "metadata": {
        "id": "vkPsCZIizB6I"
      },
      "outputs": [],
      "source": [
        "def augment_data(file_dir, n_generated_samples, save_to_dir):\n",
        "    data_gen = ImageDataGenerator(rotation_range=20,\n",
        "                                  width_shift_range=0.1,\n",
        "                                  height_shift_range=0.1,\n",
        "                                  shear_range=0.05,\n",
        "                                  brightness_range=(0.3, 1.0),\n",
        "                                  horizontal_flip=True,\n",
        "                                  vertical_flip=True,\n",
        "                                  fill_mode='nearest'\n",
        "                                 )\n",
        "\n",
        "    for filename in listdir(file_dir):\n",
        "        if filename == '.ipynb_checkpoints':\n",
        "            print('inexistente')\n",
        "        else:\n",
        "        # load the image\n",
        "            image = cv2.imread(file_dir  + filename)\n",
        "        # reshape the image\n",
        "            image = image.reshape((1,)+image.shape)\n",
        "        # prefix of the names for the generated sampels.\n",
        "            save_prefix = 'aug_' + filename[:-4]\n",
        "        # generate 'n_generated_samples' sample images\n",
        "            i=0\n",
        "            for batch in data_gen.flow(x=image, batch_size=1, save_to_dir=save_to_dir,\n",
        "                                           save_prefix=save_prefix, save_format='jpg'):\n",
        "                i += 1\n",
        "                if i > n_generated_samples:\n",
        "                   break"
      ]
    },
    {
      "cell_type": "code",
      "execution_count": null,
      "metadata": {
        "id": "wQ0ZlXctzB9M"
      },
      "outputs": [],
      "source": [
        "#Crie uma pasta trainaug e dentro dela uma com o nome 1 e outra com o nome 0\n",
        "\n",
        "start_time = time.time()\n",
        "augmented_data_path = '/content/trainaug/'\n",
        "augment_data(file_dir=\"/content/fold0/train/M/\", n_generated_samples=4, save_to_dir=augmented_data_path + '1')\n",
        "augment_data(file_dir=\"/content/fold0/train/B/\", n_generated_samples=4, save_to_dir=augmented_data_path + '0')\n",
        "end_time = time.time()\n",
        "execution_time = (end_time - start_time)"
      ]
    },
    {
      "cell_type": "code",
      "execution_count": null,
      "metadata": {
        "id": "DZ4f4lYY5hP3"
      },
      "outputs": [],
      "source": [
        "start_time = time.time()\n",
        "augmented_data_path = '/content/trainaug/'\n",
        "augment_data(file_dir=\"/content/teste/\", n_generated_samples=4, save_to_dir=augmented_data_path + '1')\n",
        "end_time = time.time()\n",
        "execution_time = (end_time - start_time)"
      ]
    },
    {
      "cell_type": "markdown",
      "metadata": {
        "id": "pTIclBDyJpUw"
      },
      "source": [
        "#Leitura da base de dados"
      ]
    },
    {
      "cell_type": "code",
      "execution_count": null,
      "metadata": {
        "id": "Vr6Oc714IvVA"
      },
      "outputs": [],
      "source": [
        "dir_list = ['/content/fold0/train/b/','/content/fold0/train/m/']"
      ]
    },
    {
      "cell_type": "code",
      "execution_count": null,
      "metadata": {
        "id": "xGRDVwXvIvXf"
      },
      "outputs": [],
      "source": [
        "def load_data(dir_list):\n",
        "    \"\"\"\n",
        "    Read images, resize and normalize them.\n",
        "    Arguments:\n",
        "        dir_list: list of strings representing file directories.\n",
        "    Returns:\n",
        "        X: A numpy array with shape = (#_examples, image_width, image_height, #_channels)\n",
        "        y: A numpy array with shape = (#_examples, 1)\n",
        "    \"\"\"\n",
        "\n",
        "    # load all images in a directory\n",
        "    X = []\n",
        "    y = []\n",
        "\n",
        "    for directory in dir_list:\n",
        "        for filename in sorted(listdir(directory)):\n",
        "            if filename == '.ipynb_checkpoints':\n",
        "                print(\"proximo\")\n",
        "            else:\n",
        "            # load the image\n",
        "              image = cv2.imread(directory + filename)\n",
        "            # crop the brain and ignore the unnecessary rest part of the image\n",
        "            #image = crop_brain_contour(image, plot=False)\n",
        "            # resize image\n",
        "            #image = cv2.resize(image, dsize= (256, 256), interpolation=cv2.INTER_CUBIC)\n",
        "            # normalize values\n",
        "              image = image / 255.\n",
        "            # convert image to numpy array and append it to X\n",
        "              X.append(image)\n",
        "            # append a value of 1 to the target array if the image\n",
        "            # is in the folder named 'yes', otherwise append 0.\n",
        "              if directory == '/content/fold0/train/m/':\n",
        "                 y.append([1])\n",
        "\n",
        "              else:\n",
        "                 y.append([0])\n",
        "\n",
        "    X = np.array(X)\n",
        "    y = np.array(y)\n",
        "\n",
        "    # Shuffle the data\n",
        "    #X, y = shuffle(X, y)\n",
        "\n",
        "    print(f'Number of examples is: {len(X)}')\n",
        "    print(f'X shape is: {X.shape}')\n",
        "    print(f'y shape is: {y.shape}')\n",
        "\n",
        "    return X, y"
      ]
    },
    {
      "cell_type": "code",
      "execution_count": null,
      "metadata": {
        "id": "A1NFcMb5Jq4V"
      },
      "outputs": [],
      "source": [
        "X_train, y_train = load_data(dir_list)"
      ]
    },
    {
      "cell_type": "code",
      "execution_count": null,
      "metadata": {
        "id": "E2XNmlnXJmdT"
      },
      "outputs": [],
      "source": [
        "dir_list = ['/content/fold0/test/B/','/content/fold0/test/M/']"
      ]
    },
    {
      "cell_type": "code",
      "execution_count": null,
      "metadata": {
        "id": "ELN4DwLpJmxL"
      },
      "outputs": [],
      "source": [
        "def load_data(dir_list):\n",
        "    \"\"\"\n",
        "    Read images, resize and normalize them.\n",
        "    Arguments:\n",
        "        dir_list: list of strings representing file directories.\n",
        "    Returns:\n",
        "        X: A numpy array with shape = (#_examples, image_width, image_height, #_channels)\n",
        "        y: A numpy array with shape = (#_examples, 1)\n",
        "    \"\"\"\n",
        "\n",
        "    # load all images in a directory\n",
        "    X = []\n",
        "    y = []\n",
        "\n",
        "    for directory in dir_list:\n",
        "        for filename in sorted(listdir(directory)):\n",
        "            if filename == '.ipynb_checkpoints':\n",
        "                print(\"proximo\")\n",
        "            else:\n",
        "            # load the image\n",
        "              image = cv2.imread(directory + filename)\n",
        "            # crop the brain and ignore the unnecessary rest part of the image\n",
        "            #image = crop_brain_contour(image, plot=False)\n",
        "            # resize image\n",
        "            #image = cv2.resize(image, dsize= (256, 256), interpolation=cv2.INTER_CUBIC)\n",
        "            # normalize values\n",
        "              image = image / 255.\n",
        "            # convert image to numpy array and append it to X\n",
        "              X.append(image)\n",
        "            # append a value of 1 to the target array if the image\n",
        "            # is in the folder named 'yes', otherwise append 0.\n",
        "              if directory == '/content/fold0/test/B/':\n",
        "                 y.append([0])\n",
        "              else:\n",
        "                 y.append([1])\n",
        "\n",
        "    X = np.array(X)\n",
        "    y = np.array(y)\n",
        "\n",
        "    # Shuffle the data\n",
        "    #X, y = shuffle(X, y)\n",
        "\n",
        "    print(f'Number of examples is: {len(X)}')\n",
        "    print(f'X shape is: {X.shape}')\n",
        "    print(f'y shape is: {y.shape}')\n",
        "\n",
        "    return X, y"
      ]
    },
    {
      "cell_type": "code",
      "execution_count": null,
      "metadata": {
        "id": "-02dKdXpJwzV"
      },
      "outputs": [],
      "source": [
        "X_test, y_test = load_data(dir_list)"
      ]
    },
    {
      "cell_type": "code",
      "execution_count": null,
      "metadata": {
        "id": "pAVAZs3263iJ"
      },
      "outputs": [],
      "source": [
        "dir_list = ['/content/teste/']"
      ]
    },
    {
      "cell_type": "code",
      "execution_count": null,
      "metadata": {
        "id": "phXVUMAC63lP"
      },
      "outputs": [],
      "source": [
        "def load_data(dir_list):\n",
        "    \"\"\"\n",
        "    Read images, resize and normalize them.\n",
        "    Arguments:\n",
        "        dir_list: list of strings representing file directories.\n",
        "    Returns:\n",
        "        X: A numpy array with shape = (#_examples, image_width, image_height, #_channels)\n",
        "        y: A numpy array with shape = (#_examples, 1)\n",
        "    \"\"\"\n",
        "\n",
        "    # load all images in a directory\n",
        "    X = []\n",
        "\n",
        "    for directory in dir_list:\n",
        "        for filename in listdir(directory):\n",
        "            if filename == '.ipynb_checkpoints':\n",
        "                print(\"proximo\")\n",
        "            else:\n",
        "            # load the image\n",
        "              image = cv2.imread(directory + filename)\n",
        "            # crop the brain and ignore the unnecessary rest part of the image\n",
        "            #image = crop_brain_contour(image, plot=False)\n",
        "            # resize image\n",
        "            #image = cv2.resize(image, dsize= (256, 256), interpolation=cv2.INTER_CUBIC)\n",
        "            # normalize values\n",
        "              image = image / 255.\n",
        "            # convert image to numpy array and append it to X\n",
        "              X.append(image)\n",
        "            # append a value of 1 to the target array if the image\n",
        "            # is in the folder named 'yes', otherwise append 0.\n",
        "\n",
        "    X = np.array(X)\n",
        "\n",
        "    # Shuffle the data\n",
        "    #X, y = shuffle(X, y)\n",
        "\n",
        "    print(f'Number of examples is: {len(X)}')\n",
        "    print(f'X shape is: {X.shape}')\n",
        "\n",
        "    return X"
      ]
    },
    {
      "cell_type": "code",
      "execution_count": null,
      "metadata": {
        "id": "ats2ZFno63vo"
      },
      "outputs": [],
      "source": [
        "X_test2 = load_data(dir_list)"
      ]
    },
    {
      "cell_type": "code",
      "execution_count": null,
      "metadata": {
        "id": "mgXaxEYSI9tx"
      },
      "outputs": [],
      "source": [
        "X_train = X_train.astype('float32')\n",
        "X_test = X_test.astype('float32')\n",
        "X_test2 = X_test2.astype('float32')\n",
        "X_train /= 255\n",
        "X_test /= 255\n",
        "X_test2 /= 255\n",
        "y_train = tf.keras.utils.to_categorical(y_train)\n",
        "y_test = tf.keras.utils.to_categorical(y_test)"
      ]
    },
    {
      "cell_type": "markdown",
      "metadata": {
        "id": "ju6QphiXEhqz"
      },
      "source": [
        "#Modelo 1"
      ]
    },
    {
      "cell_type": "code",
      "execution_count": null,
      "metadata": {
        "id": "wl2TbyzYhqq3"
      },
      "outputs": [],
      "source": [
        "resultados_test2 = np.zeros((379,13), dtype=np.float64)\n",
        "resultados = np.zeros((90,13), dtype=np.float64)"
      ]
    },
    {
      "cell_type": "code",
      "execution_count": null,
      "metadata": {
        "id": "m4XwnEexI9w3"
      },
      "outputs": [],
      "source": [
        "# first input model# first input model\n",
        "vgg16 = tf.keras.applications.VGG16(input_shape=(256,256,3), include_top = False, weights= 'imagenet')\n",
        "x = vgg16.output\n",
        "x = Flatten()(x)\n",
        "\n",
        "# merge input models\n",
        "x = Dense(128,activation='relu')(x)\n",
        "x = Dropout(0.5)(x)\n",
        "x = Dense(64,activation='relu')(x)\n",
        "x = Dropout(0.5)(x)\n",
        "out = Dense(2,activation='sigmoid')(x)\n",
        "\n",
        "model = Model(inputs=vgg16.input, outputs=out)\n",
        "model.compile(optimizer=tf.keras.optimizers.Adagrad(),loss=tf.keras.losses.binary_crossentropy, metrics=['accuracy'])\n",
        "#tf_model.summary()"
      ]
    },
    {
      "cell_type": "code",
      "execution_count": null,
      "metadata": {
        "id": "N10f08BlMWjd"
      },
      "outputs": [],
      "source": [
        "tf.keras.utils.plot_model(model, \"modelo1's.png\", show_shapes=True)"
      ]
    },
    {
      "cell_type": "code",
      "execution_count": null,
      "metadata": {
        "id": "xhqdfqGOYqQV"
      },
      "outputs": [],
      "source": [
        "history = model.fit(X_train, y_train, batch_size = 16, epochs = 100, initial_epoch = 0, validation_data = (X_test,y_test),callbacks=EarlyStopping(monitor=\"val_loss\", mode=\"min\", verbose=1, patience=10))"
      ]
    },
    {
      "cell_type": "code",
      "execution_count": null,
      "metadata": {
        "id": "FoHHOwhrYx5C"
      },
      "outputs": [],
      "source": [
        "y_predt = model.predict(X_test)\n",
        "y_predt= np.argmax(y_predt,axis=1)"
      ]
    },
    {
      "cell_type": "code",
      "execution_count": null,
      "metadata": {
        "id": "wm2VnOIHQGJA"
      },
      "outputs": [],
      "source": [
        "resultados[:,0]=y_predt"
      ]
    },
    {
      "cell_type": "code",
      "execution_count": null,
      "metadata": {
        "id": "7-JgzbBLBSW3"
      },
      "outputs": [],
      "source": [
        "y_predt = model.predict(X_test2)\n",
        "y_predt= np.argmax(y_predt,axis=1)"
      ]
    },
    {
      "cell_type": "code",
      "execution_count": null,
      "metadata": {
        "id": "xCCMzaFxBjJG"
      },
      "outputs": [],
      "source": [
        "resultados_test2[:,0]=y_predt"
      ]
    },
    {
      "cell_type": "code",
      "execution_count": null,
      "metadata": {
        "colab": {
          "base_uri": "https://localhost:8080/"
        },
        "id": "0Hg-PwJNGwxW",
        "outputId": "12fc275e-53d6-4ff3-a471-ecdc2540f0e0"
      },
      "outputs": [
        {
          "data": {
            "application/javascript": [
              "\n",
              "    async function download(id, filename, size) {\n",
              "      if (!google.colab.kernel.accessAllowed) {\n",
              "        return;\n",
              "      }\n",
              "      const div = document.createElement('div');\n",
              "      const label = document.createElement('label');\n",
              "      label.textContent = `Downloading \"${filename}\": `;\n",
              "      div.appendChild(label);\n",
              "      const progress = document.createElement('progress');\n",
              "      progress.max = size;\n",
              "      div.appendChild(progress);\n",
              "      document.body.appendChild(div);\n",
              "\n",
              "      const buffers = [];\n",
              "      let downloaded = 0;\n",
              "\n",
              "      const channel = await google.colab.kernel.comms.open(id);\n",
              "      // Send a message to notify the kernel that we're ready.\n",
              "      channel.send({})\n",
              "\n",
              "      for await (const message of channel.messages) {\n",
              "        // Send a message to notify the kernel that we're ready.\n",
              "        channel.send({})\n",
              "        if (message.buffers) {\n",
              "          for (const buffer of message.buffers) {\n",
              "            buffers.push(buffer);\n",
              "            downloaded += buffer.byteLength;\n",
              "            progress.value = downloaded;\n",
              "          }\n",
              "        }\n",
              "      }\n",
              "      const blob = new Blob(buffers, {type: 'application/binary'});\n",
              "      const a = document.createElement('a');\n",
              "      a.href = window.URL.createObjectURL(blob);\n",
              "      a.download = filename;\n",
              "      div.appendChild(a);\n",
              "      a.click();\n",
              "      div.remove();\n",
              "    }\n",
              "  "
            ],
            "text/plain": [
              "<IPython.core.display.Javascript object>"
            ]
          },
          "metadata": {},
          "output_type": "display_data"
        },
        {
          "data": {
            "application/javascript": [
              "download(\"download_dfa45409-0c3e-45e7-9097-8a87e2d5542a\", \"modelo1.pkl\", 151439810)"
            ],
            "text/plain": [
              "<IPython.core.display.Javascript object>"
            ]
          },
          "metadata": {},
          "output_type": "display_data"
        }
      ],
      "source": [
        "with open('modelo1.pkl', 'wb') as file:\n",
        "    pickle.dump(model, file)\n",
        "np.savetxt('resultadosfold0.csv', resultados, delimiter=',')\n",
        "np.savetxt('resultados_test2fold0.csv', resultados_test2, delimiter=',')"
      ]
    },
    {
      "cell_type": "markdown",
      "metadata": {
        "id": "HfRkdOmeFrjC"
      },
      "source": [
        "#Modelo2"
      ]
    },
    {
      "cell_type": "code",
      "execution_count": null,
      "metadata": {
        "id": "RNtwHUFKPPUa"
      },
      "outputs": [],
      "source": [
        "densenet121 = tf.keras.applications.densenet.DenseNet121(input_shape=(256,256,3), include_top = False, weights= 'imagenet')\n",
        "x = densenet121.output\n",
        "x = Flatten()(x)\n",
        "\n",
        "x = Dense(128,activation='relu')(x)\n",
        "x = Dropout(0.5)(x)\n",
        "x = Dense(64,activation='relu')(x)\n",
        "x = Dropout(0.5)(x)\n",
        "out = Dense(2,activation='sigmoid')(x)\n",
        "tf_model2=Model(densenet121.input,outputs=out)\n",
        "\n",
        "tf_model2.compile(optimizer=tf.keras.optimizers.Adagrad(),loss=tf.keras.losses.binary_crossentropy, metrics=['accuracy'])\n"
      ]
    },
    {
      "cell_type": "code",
      "execution_count": null,
      "metadata": {
        "id": "8t7v5-F-TcJ6"
      },
      "outputs": [],
      "source": [
        "history2 = tf_model2.fit(X_train, y_train, batch_size = 16, epochs = 100, initial_epoch = 0, validation_data = (X_test,y_test),callbacks=EarlyStopping(monitor=\"val_loss\", mode=\"min\", verbose=1, patience=10))"
      ]
    },
    {
      "cell_type": "code",
      "execution_count": null,
      "metadata": {
        "id": "t6xfDzg-B3Z2"
      },
      "outputs": [],
      "source": [
        "y_predt = tf_model2.predict(X_test)\n",
        "y_predt= np.argmax(y_predt,axis=1)\n",
        "resultados[:,1]=y_predt\n",
        "y_predt = tf_model2.predict(X_test2)\n",
        "y_predt= np.argmax(y_predt,axis=1)\n",
        "resultados_test2[:,1]=y_predt"
      ]
    },
    {
      "cell_type": "code",
      "execution_count": null,
      "metadata": {
        "id": "uuNiUjLHDeVg"
      },
      "outputs": [],
      "source": [
        "with open('modelo2.pkl', 'wb') as file:\n",
        "    pickle.dump(tf_model2, file)\n",
        "np.savetxt('resultadosfold0.csv', resultados, delimiter=',')\n",
        "np.savetxt('resultados_test2fold0.csv', resultados_test2, delimiter=',')"
      ]
    },
    {
      "cell_type": "markdown",
      "metadata": {
        "id": "kRJhtUdLF7YR"
      },
      "source": [
        "#Modelo 3"
      ]
    },
    {
      "cell_type": "code",
      "execution_count": null,
      "metadata": {
        "id": "BOC3VyljI92H"
      },
      "outputs": [],
      "source": [
        "densenet169 = tf.keras.applications.densenet.DenseNet169(input_shape=(256,256,3), include_top = False, weights= 'imagenet')\n",
        "x = densenet169.output\n",
        "x = Flatten()(x)\n",
        "\n",
        "x = Dense(128,activation='relu')(x)\n",
        "x = Dropout(0.5)(x)\n",
        "x = Dense(64,activation='relu')(x)\n",
        "x = Dropout(0.5)(x)\n",
        "out = Dense(2,activation='sigmoid')(x)\n",
        "tf_model3=Model(densenet169.input,outputs=out)\n",
        "\n",
        "tf_model3.compile(optimizer=tf.keras.optimizers.Adagrad(),loss=tf.keras.losses.binary_crossentropy, metrics=['accuracy'])"
      ]
    },
    {
      "cell_type": "code",
      "execution_count": null,
      "metadata": {
        "id": "vp9XSRMaAG3e"
      },
      "outputs": [],
      "source": [
        "history3 = tf_model3.fit(X_train, y_train, batch_size = 16, epochs = 100, initial_epoch = 0, validation_data = (X_test,y_test),callbacks=EarlyStopping(monitor=\"val_loss\", mode=\"min\", verbose=1, patience=10))"
      ]
    },
    {
      "cell_type": "code",
      "execution_count": null,
      "metadata": {
        "id": "UuB-cVI5CAc-"
      },
      "outputs": [],
      "source": [
        "y_predt = tf_model3.predict(X_test)\n",
        "y_predt= np.argmax(y_predt,axis=1)\n",
        "resultados[:,2]=y_predt\n",
        "y_predt = tf_model3.predict(X_test2)\n",
        "y_predt= np.argmax(y_predt,axis=1)\n",
        "resultados_test2[:,2]=y_predt"
      ]
    },
    {
      "cell_type": "code",
      "execution_count": null,
      "metadata": {
        "colab": {
          "base_uri": "https://localhost:8080/"
        },
        "id": "14pDg3I5Kmt2",
        "outputId": "7bfbfafd-c07f-4733-b14f-a0705b43ea6c"
      },
      "outputs": [
        {
          "data": {
            "application/javascript": [
              "\n",
              "    async function download(id, filename, size) {\n",
              "      if (!google.colab.kernel.accessAllowed) {\n",
              "        return;\n",
              "      }\n",
              "      const div = document.createElement('div');\n",
              "      const label = document.createElement('label');\n",
              "      label.textContent = `Downloading \"${filename}\": `;\n",
              "      div.appendChild(label);\n",
              "      const progress = document.createElement('progress');\n",
              "      progress.max = size;\n",
              "      div.appendChild(progress);\n",
              "      document.body.appendChild(div);\n",
              "\n",
              "      const buffers = [];\n",
              "      let downloaded = 0;\n",
              "\n",
              "      const channel = await google.colab.kernel.comms.open(id);\n",
              "      // Send a message to notify the kernel that we're ready.\n",
              "      channel.send({})\n",
              "\n",
              "      for await (const message of channel.messages) {\n",
              "        // Send a message to notify the kernel that we're ready.\n",
              "        channel.send({})\n",
              "        if (message.buffers) {\n",
              "          for (const buffer of message.buffers) {\n",
              "            buffers.push(buffer);\n",
              "            downloaded += buffer.byteLength;\n",
              "            progress.value = downloaded;\n",
              "          }\n",
              "        }\n",
              "      }\n",
              "      const blob = new Blob(buffers, {type: 'application/binary'});\n",
              "      const a = document.createElement('a');\n",
              "      a.href = window.URL.createObjectURL(blob);\n",
              "      a.download = filename;\n",
              "      div.appendChild(a);\n",
              "      a.click();\n",
              "      div.remove();\n",
              "    }\n",
              "  "
            ],
            "text/plain": [
              "<IPython.core.display.Javascript object>"
            ]
          },
          "metadata": {},
          "output_type": "display_data"
        },
        {
          "data": {
            "application/javascript": [
              "download(\"download_22043d9d-616a-4eb9-9577-5423b5c7666b\", \"modelo3.pkl\", 211676799)"
            ],
            "text/plain": [
              "<IPython.core.display.Javascript object>"
            ]
          },
          "metadata": {},
          "output_type": "display_data"
        }
      ],
      "source": [
        "with open('modelo3.pkl', 'wb') as file:\n",
        "    pickle.dump(tf_model3, file)\n",
        "np.savetxt('resultadosfold0.csv', resultados, delimiter=',')\n",
        "np.savetxt('resultados_test2fold0.csv', resultados_test2, delimiter=',')"
      ]
    },
    {
      "cell_type": "markdown",
      "metadata": {
        "id": "dGYFXdLjGGbZ"
      },
      "source": [
        "#Modelo 4"
      ]
    },
    {
      "cell_type": "code",
      "execution_count": null,
      "metadata": {
        "id": "BnPlhYDpI95L"
      },
      "outputs": [],
      "source": [
        "densenet201 = tf.keras.applications.densenet.DenseNet201(input_shape=(256,256,3), include_top = False, weights= 'imagenet')\n",
        "x = densenet201.output\n",
        "x = Flatten()(x)\n",
        "\n",
        "x = Dense(128,activation='relu')(x)\n",
        "x = Dropout(0.5)(x)\n",
        "x = Dense(64,activation='relu')(x)\n",
        "x = Dropout(0.5)(x)\n",
        "out = Dense(2,activation='sigmoid')(x)\n",
        "tf_model4=Model(densenet201.input,outputs=out)\n",
        "\n",
        "tf_model4.compile(optimizer=tf.keras.optimizers.Adagrad(),loss=tf.keras.losses.binary_crossentropy, metrics=['accuracy'])"
      ]
    },
    {
      "cell_type": "code",
      "execution_count": null,
      "metadata": {
        "id": "Rhc1tI_iCDEj"
      },
      "outputs": [],
      "source": [
        "history4 = tf_model4.fit(X_train, y_train, batch_size = 16, epochs = 100, initial_epoch = 0, validation_data = (X_test,y_test),callbacks=EarlyStopping(monitor=\"val_loss\", mode=\"min\", verbose=1, patience=10))"
      ]
    },
    {
      "cell_type": "code",
      "execution_count": null,
      "metadata": {
        "id": "LDmnoRFnCDtm"
      },
      "outputs": [],
      "source": [
        "y_predt = tf_model4.predict(X_test)\n",
        "y_predt= np.argmax(y_predt,axis=1)\n",
        "resultados[:,3]=y_predt\n",
        "y_predt = tf_model4.predict(X_test2)\n",
        "y_predt= np.argmax(y_predt,axis=1)\n",
        "resultados_test2[:,3]=y_predt"
      ]
    },
    {
      "cell_type": "code",
      "execution_count": null,
      "metadata": {
        "colab": {
          "base_uri": "https://localhost:8080/"
        },
        "id": "GdJM-qdrOj1_",
        "outputId": "4a917cdc-acb8-4a2f-d7ba-622129fa5abb"
      },
      "outputs": [
        {
          "data": {
            "application/javascript": [
              "\n",
              "    async function download(id, filename, size) {\n",
              "      if (!google.colab.kernel.accessAllowed) {\n",
              "        return;\n",
              "      }\n",
              "      const div = document.createElement('div');\n",
              "      const label = document.createElement('label');\n",
              "      label.textContent = `Downloading \"${filename}\": `;\n",
              "      div.appendChild(label);\n",
              "      const progress = document.createElement('progress');\n",
              "      progress.max = size;\n",
              "      div.appendChild(progress);\n",
              "      document.body.appendChild(div);\n",
              "\n",
              "      const buffers = [];\n",
              "      let downloaded = 0;\n",
              "\n",
              "      const channel = await google.colab.kernel.comms.open(id);\n",
              "      // Send a message to notify the kernel that we're ready.\n",
              "      channel.send({})\n",
              "\n",
              "      for await (const message of channel.messages) {\n",
              "        // Send a message to notify the kernel that we're ready.\n",
              "        channel.send({})\n",
              "        if (message.buffers) {\n",
              "          for (const buffer of message.buffers) {\n",
              "            buffers.push(buffer);\n",
              "            downloaded += buffer.byteLength;\n",
              "            progress.value = downloaded;\n",
              "          }\n",
              "        }\n",
              "      }\n",
              "      const blob = new Blob(buffers, {type: 'application/binary'});\n",
              "      const a = document.createElement('a');\n",
              "      a.href = window.URL.createObjectURL(blob);\n",
              "      a.download = filename;\n",
              "      div.appendChild(a);\n",
              "      a.click();\n",
              "      div.remove();\n",
              "    }\n",
              "  "
            ],
            "text/plain": [
              "<IPython.core.display.Javascript object>"
            ]
          },
          "metadata": {},
          "output_type": "display_data"
        },
        {
          "data": {
            "application/javascript": [
              "download(\"download_4d2084b6-bb8a-4b7e-bbd2-103f94cd12df\", \"modelo4.pkl\", 273994165)"
            ],
            "text/plain": [
              "<IPython.core.display.Javascript object>"
            ]
          },
          "metadata": {},
          "output_type": "display_data"
        }
      ],
      "source": [
        "with open('modelo4.pkl', 'wb') as file:\n",
        "    pickle.dump(tf_model4, file)\n",
        "np.savetxt('resultadosfold0.csv', resultados, delimiter=',')\n",
        "np.savetxt('resultados_test2fold0.csv', resultados_test2, delimiter=',')"
      ]
    },
    {
      "cell_type": "markdown",
      "metadata": {
        "id": "Pu8cxEVXGRBw"
      },
      "source": [
        "#Modelo 5"
      ]
    },
    {
      "cell_type": "code",
      "execution_count": null,
      "metadata": {
        "id": "1IU2XFNuI97Z"
      },
      "outputs": [],
      "source": [
        "inception_resnet_v2 = tf.keras.applications.inception_resnet_v2.InceptionResNetV2(input_shape=(256,256,3), include_top = False, weights= 'imagenet')\n",
        "x = inception_resnet_v2.output\n",
        "x = Flatten()(x)\n",
        "\n",
        "x = Dense(128,activation='relu')(x)\n",
        "x = Dropout(0.5)(x)\n",
        "x = Dense(64,activation='relu')(x)\n",
        "x = Dropout(0.5)(x)\n",
        "out = Dense(2,activation='sigmoid')(x)\n",
        "tf_model5=Model(inception_resnet_v2.input,outputs=out)\n",
        "\n",
        "tf_model5.compile(optimizer=tf.keras.optimizers.Adagrad(),loss=tf.keras.losses.binary_crossentropy, metrics=['accuracy'])"
      ]
    },
    {
      "cell_type": "code",
      "execution_count": null,
      "metadata": {
        "id": "OpuejWjhCSry"
      },
      "outputs": [],
      "source": [
        "history5 = tf_model5.fit(X_train, y_train, batch_size = 16, epochs = 100, initial_epoch = 0, validation_data = (X_test,y_test),callbacks=EarlyStopping(monitor=\"val_loss\", mode=\"min\", verbose=1, patience=10))"
      ]
    },
    {
      "cell_type": "code",
      "execution_count": null,
      "metadata": {
        "id": "sZ_kjtP7CGkW"
      },
      "outputs": [],
      "source": [
        "y_predt = tf_model5.predict(X_test)\n",
        "y_predt= np.argmax(y_predt,axis=1)\n",
        "resultados[:,4]=y_predt\n",
        "y_predt = tf_model5.predict(X_test2)\n",
        "y_predt= np.argmax(y_predt,axis=1)\n",
        "resultados_test2[:,4]=y_predt"
      ]
    },
    {
      "cell_type": "code",
      "execution_count": null,
      "metadata": {
        "colab": {
          "base_uri": "https://localhost:8080/",
          "height": 34
        },
        "id": "j8dc2C23R2mZ",
        "outputId": "cd275cdb-09f1-4091-8785-7801023a5f76"
      },
      "outputs": [
        {
          "data": {
            "application/javascript": [
              "\n",
              "    async function download(id, filename, size) {\n",
              "      if (!google.colab.kernel.accessAllowed) {\n",
              "        return;\n",
              "      }\n",
              "      const div = document.createElement('div');\n",
              "      const label = document.createElement('label');\n",
              "      label.textContent = `Downloading \"${filename}\": `;\n",
              "      div.appendChild(label);\n",
              "      const progress = document.createElement('progress');\n",
              "      progress.max = size;\n",
              "      div.appendChild(progress);\n",
              "      document.body.appendChild(div);\n",
              "\n",
              "      const buffers = [];\n",
              "      let downloaded = 0;\n",
              "\n",
              "      const channel = await google.colab.kernel.comms.open(id);\n",
              "      // Send a message to notify the kernel that we're ready.\n",
              "      channel.send({})\n",
              "\n",
              "      for await (const message of channel.messages) {\n",
              "        // Send a message to notify the kernel that we're ready.\n",
              "        channel.send({})\n",
              "        if (message.buffers) {\n",
              "          for (const buffer of message.buffers) {\n",
              "            buffers.push(buffer);\n",
              "            downloaded += buffer.byteLength;\n",
              "            progress.value = downloaded;\n",
              "          }\n",
              "        }\n",
              "      }\n",
              "      const blob = new Blob(buffers, {type: 'application/binary'});\n",
              "      const a = document.createElement('a');\n",
              "      a.href = window.URL.createObjectURL(blob);\n",
              "      a.download = filename;\n",
              "      div.appendChild(a);\n",
              "      a.click();\n",
              "      div.remove();\n",
              "    }\n",
              "  "
            ],
            "text/plain": [
              "<IPython.core.display.Javascript object>"
            ]
          },
          "metadata": {},
          "output_type": "display_data"
        },
        {
          "data": {
            "application/javascript": [
              "download(\"download_41348bc0-5766-4cc7-9a92-c5e7457377b1\", \"modelo5.pkl\", 493700805)"
            ],
            "text/plain": [
              "<IPython.core.display.Javascript object>"
            ]
          },
          "metadata": {},
          "output_type": "display_data"
        }
      ],
      "source": [
        "with open('modelo5.pkl', 'wb') as file:\n",
        "    pickle.dump(tf_model5, file)\n",
        "np.savetxt('resultadosfold0.csv', resultados, delimiter=',')\n",
        "np.savetxt('resultados_test2fold0.csv', resultados_test2, delimiter=',')"
      ]
    },
    {
      "cell_type": "markdown",
      "metadata": {
        "id": "A61Z0MUUGduo"
      },
      "source": [
        "#Modelo 6"
      ]
    },
    {
      "cell_type": "code",
      "execution_count": null,
      "metadata": {
        "id": "h3eZcuhBHDmM"
      },
      "outputs": [],
      "source": [
        "resnet50 = tf.keras.applications.resnet.ResNet50(input_shape=(256,256,3), include_top = False, weights= 'imagenet')\n",
        "x = resnet50.output\n",
        "x = Flatten()(x)\n",
        "\n",
        "x = Dense(128,activation='relu')(x)\n",
        "x = Dropout(0.5)(x)\n",
        "x = Dense(64,activation='relu')(x)\n",
        "x = Dropout(0.5)(x)\n",
        "out = Dense(2,activation='sigmoid')(x)\n",
        "tf_model6=Model(resnet50.input,outputs=out)\n",
        "\n",
        "tf_model6.compile(optimizer=tf.keras.optimizers.Adagrad(),loss=tf.keras.losses.binary_crossentropy, metrics=['accuracy'])"
      ]
    },
    {
      "cell_type": "code",
      "execution_count": null,
      "metadata": {
        "colab": {
          "background_save": true
        },
        "id": "6FzYrlIeCkGG"
      },
      "outputs": [],
      "source": [
        "history6 = tf_model6.fit(X_train, y_train, batch_size = 16, epochs = 100, initial_epoch = 0, validation_data = (X_test,y_test),callbacks=EarlyStopping(monitor=\"val_loss\", mode=\"min\", verbose=1, patience=10))"
      ]
    },
    {
      "cell_type": "code",
      "execution_count": null,
      "metadata": {
        "colab": {
          "background_save": true
        },
        "id": "VxA7TILCCL2e"
      },
      "outputs": [],
      "source": [
        "y_predt = tf_model6.predict(X_test)\n",
        "y_predt= np.argmax(y_predt,axis=1)\n",
        "resultados[:,5]=y_predt\n",
        "y_predt = tf_model6.predict(X_test2)\n",
        "y_predt= np.argmax(y_predt,axis=1)\n",
        "resultados_test2[:,5]=y_predt"
      ]
    },
    {
      "cell_type": "code",
      "execution_count": null,
      "metadata": {
        "colab": {
          "background_save": true,
          "base_uri": "https://localhost:8080/"
        },
        "id": "WH6BeKZjWMsu",
        "outputId": "899ba924-f99d-429c-e426-b27832679794"
      },
      "outputs": [
        {
          "data": {
            "application/javascript": [
              "\n",
              "    async function download(id, filename, size) {\n",
              "      if (!google.colab.kernel.accessAllowed) {\n",
              "        return;\n",
              "      }\n",
              "      const div = document.createElement('div');\n",
              "      const label = document.createElement('label');\n",
              "      label.textContent = `Downloading \"${filename}\": `;\n",
              "      div.appendChild(label);\n",
              "      const progress = document.createElement('progress');\n",
              "      progress.max = size;\n",
              "      div.appendChild(progress);\n",
              "      document.body.appendChild(div);\n",
              "\n",
              "      const buffers = [];\n",
              "      let downloaded = 0;\n",
              "\n",
              "      const channel = await google.colab.kernel.comms.open(id);\n",
              "      // Send a message to notify the kernel that we're ready.\n",
              "      channel.send({})\n",
              "\n",
              "      for await (const message of channel.messages) {\n",
              "        // Send a message to notify the kernel that we're ready.\n",
              "        channel.send({})\n",
              "        if (message.buffers) {\n",
              "          for (const buffer of message.buffers) {\n",
              "            buffers.push(buffer);\n",
              "            downloaded += buffer.byteLength;\n",
              "            progress.value = downloaded;\n",
              "          }\n",
              "        }\n",
              "      }\n",
              "      const blob = new Blob(buffers, {type: 'application/binary'});\n",
              "      const a = document.createElement('a');\n",
              "      a.href = window.URL.createObjectURL(blob);\n",
              "      a.download = filename;\n",
              "      div.appendChild(a);\n",
              "      a.click();\n",
              "      div.remove();\n",
              "    }\n",
              "  "
            ],
            "text/plain": [
              "<IPython.core.display.Javascript object>"
            ]
          },
          "metadata": {},
          "output_type": "display_data"
        },
        {
          "data": {
            "application/javascript": [
              "download(\"download_65e2276c-fe1a-43b5-a97d-72fc1a09fea5\", \"modelo6.pkl\", 323450078)"
            ],
            "text/plain": [
              "<IPython.core.display.Javascript object>"
            ]
          },
          "metadata": {},
          "output_type": "display_data"
        }
      ],
      "source": [
        "with open('modelo6.pkl', 'wb') as file:\n",
        "    pickle.dump(tf_model6, file)\n",
        "np.savetxt('resultadosfold0.csv', resultados, delimiter=',')\n",
        "np.savetxt('resultados_test2fold0.csv', resultados_test2, delimiter=',')"
      ]
    },
    {
      "cell_type": "markdown",
      "metadata": {
        "id": "H4_ybIYzGmGQ"
      },
      "source": [
        "#Modelo 7\n"
      ]
    },
    {
      "cell_type": "code",
      "execution_count": null,
      "metadata": {
        "colab": {
          "background_save": true
        },
        "id": "uHoKSm93LeS8"
      },
      "outputs": [],
      "source": [
        "resnet101 = tf.keras.applications.resnet.ResNet101(input_shape=(256,256,3), include_top = False, weights= 'imagenet')\n",
        "x = resnet101.output\n",
        "x = Flatten()(x)\n",
        "\n",
        "x = Dense(128,activation='relu')(x)\n",
        "x = Dropout(0.5)(x)\n",
        "x = Dense(64,activation='relu')(x)\n",
        "x = Dropout(0.5)(x)\n",
        "out = Dense(2,activation='sigmoid')(x)\n",
        "tf_model7=Model(resnet101.input,outputs=out)\n",
        "\n",
        "tf_model7.compile(optimizer=tf.keras.optimizers.Adagrad(),loss=tf.keras.losses.binary_crossentropy, metrics=['accuracy'])"
      ]
    },
    {
      "cell_type": "code",
      "execution_count": null,
      "metadata": {
        "colab": {
          "background_save": true
        },
        "id": "IfmRGJEBCxFY"
      },
      "outputs": [],
      "source": [
        "history7 = tf_model7.fit(X_train, y_train, batch_size = 16, epochs = 100, initial_epoch = 0, validation_data = (X_test,y_test),callbacks=EarlyStopping(monitor=\"val_loss\", mode=\"min\", verbose=1, patience=10))"
      ]
    },
    {
      "cell_type": "code",
      "execution_count": null,
      "metadata": {
        "colab": {
          "background_save": true
        },
        "id": "B52jnmzKCQA3"
      },
      "outputs": [],
      "source": [
        "y_predt = tf_model7.predict(X_test)\n",
        "y_predt= np.argmax(y_predt,axis=1)\n",
        "resultados[:,6]=y_predt\n",
        "y_predt = tf_model7.predict(X_test2)\n",
        "y_predt= np.argmax(y_predt,axis=1)\n",
        "resultados_test2[:,6]=y_predt"
      ]
    },
    {
      "cell_type": "code",
      "execution_count": null,
      "metadata": {
        "colab": {
          "background_save": true,
          "base_uri": "https://localhost:8080/"
        },
        "id": "ocgkOYEWWPdB",
        "outputId": "559ef82a-75a5-4c3c-a125-46effb1d802f"
      },
      "outputs": [
        {
          "data": {
            "application/javascript": [
              "\n",
              "    async function download(id, filename, size) {\n",
              "      if (!google.colab.kernel.accessAllowed) {\n",
              "        return;\n",
              "      }\n",
              "      const div = document.createElement('div');\n",
              "      const label = document.createElement('label');\n",
              "      label.textContent = `Downloading \"${filename}\": `;\n",
              "      div.appendChild(label);\n",
              "      const progress = document.createElement('progress');\n",
              "      progress.max = size;\n",
              "      div.appendChild(progress);\n",
              "      document.body.appendChild(div);\n",
              "\n",
              "      const buffers = [];\n",
              "      let downloaded = 0;\n",
              "\n",
              "      const channel = await google.colab.kernel.comms.open(id);\n",
              "      // Send a message to notify the kernel that we're ready.\n",
              "      channel.send({})\n",
              "\n",
              "      for await (const message of channel.messages) {\n",
              "        // Send a message to notify the kernel that we're ready.\n",
              "        channel.send({})\n",
              "        if (message.buffers) {\n",
              "          for (const buffer of message.buffers) {\n",
              "            buffers.push(buffer);\n",
              "            downloaded += buffer.byteLength;\n",
              "            progress.value = downloaded;\n",
              "          }\n",
              "        }\n",
              "      }\n",
              "      const blob = new Blob(buffers, {type: 'application/binary'});\n",
              "      const a = document.createElement('a');\n",
              "      a.href = window.URL.createObjectURL(blob);\n",
              "      a.download = filename;\n",
              "      div.appendChild(a);\n",
              "      a.click();\n",
              "      div.remove();\n",
              "    }\n",
              "  "
            ],
            "text/plain": [
              "<IPython.core.display.Javascript object>"
            ]
          },
          "metadata": {},
          "output_type": "display_data"
        },
        {
          "data": {
            "application/javascript": [
              "download(\"download_444c5384-d056-4107-aa2f-b67515bcbd14\", \"modelo7.pkl\", 476428286)"
            ],
            "text/plain": [
              "<IPython.core.display.Javascript object>"
            ]
          },
          "metadata": {},
          "output_type": "display_data"
        }
      ],
      "source": [
        "with open('modelo7.pkl', 'wb') as file:\n",
        "    pickle.dump(tf_model7, file)\n",
        "np.savetxt('resultadosfold0.csv', resultados, delimiter=',')\n",
        "np.savetxt('resultados_test2fold0.csv', resultados_test2, delimiter=',')"
      ]
    },
    {
      "cell_type": "markdown",
      "metadata": {
        "id": "QA-WXQWnG3OQ"
      },
      "source": [
        "#Modelo 8\n"
      ]
    },
    {
      "cell_type": "code",
      "execution_count": null,
      "metadata": {
        "colab": {
          "background_save": true
        },
        "id": "AAhPpxHULxpK"
      },
      "outputs": [],
      "source": [
        "resnet152 = tf.keras.applications.resnet.ResNet152(input_shape=(256,256,3), include_top = False, weights= 'imagenet')\n",
        "x = resnet152.output\n",
        "x = Flatten()(x)\n",
        "\n",
        "x = Dense(128,activation='relu')(x)\n",
        "x = Dropout(0.5)(x)\n",
        "x = Dense(64,activation='relu')(x)\n",
        "x = Dropout(0.5)(x)\n",
        "out = Dense(2,activation='sigmoid')(x)\n",
        "tf_model8=Model(resnet152.input,outputs=out)\n",
        "\n",
        "tf_model8.compile(optimizer=tf.keras.optimizers.Adagrad(),loss=tf.keras.losses.binary_crossentropy, metrics=['accuracy'])"
      ]
    },
    {
      "cell_type": "code",
      "execution_count": null,
      "metadata": {
        "colab": {
          "background_save": true,
          "base_uri": "https://localhost:8080/"
        },
        "id": "XLtniqajC-Fp",
        "outputId": "866af461-8322-465d-fbee-d9d3ac147ba8"
      },
      "outputs": [
        {
          "name": "stdout",
          "output_type": "stream",
          "text": [
            "Epoch 1/100\n",
            "139/139 [==============================] - 137s 501ms/step - loss: 0.7939 - accuracy: 0.5994 - val_loss: 0.6603 - val_accuracy: 0.7556\n",
            "Epoch 2/100\n",
            "139/139 [==============================] - 66s 474ms/step - loss: 0.6271 - accuracy: 0.6789 - val_loss: 0.6726 - val_accuracy: 0.7556\n",
            "Epoch 3/100\n",
            "139/139 [==============================] - 66s 473ms/step - loss: 0.5510 - accuracy: 0.7430 - val_loss: 0.6450 - val_accuracy: 0.7556\n",
            "Epoch 4/100\n",
            "139/139 [==============================] - 66s 474ms/step - loss: 0.4756 - accuracy: 0.7918 - val_loss: 0.6559 - val_accuracy: 0.7556\n",
            "Epoch 5/100\n",
            "139/139 [==============================] - 66s 475ms/step - loss: 0.4055 - accuracy: 0.8388 - val_loss: 0.6247 - val_accuracy: 0.7556\n",
            "Epoch 6/100\n",
            "139/139 [==============================] - 66s 475ms/step - loss: 0.3524 - accuracy: 0.8695 - val_loss: 0.6294 - val_accuracy: 0.7556\n",
            "Epoch 7/100\n",
            "139/139 [==============================] - 66s 475ms/step - loss: 0.2850 - accuracy: 0.9029 - val_loss: 0.5721 - val_accuracy: 0.7556\n",
            "Epoch 8/100\n",
            "139/139 [==============================] - 66s 474ms/step - loss: 0.2284 - accuracy: 0.9268 - val_loss: 0.7060 - val_accuracy: 0.4556\n",
            "Epoch 9/100\n",
            "139/139 [==============================] - 66s 474ms/step - loss: 0.1964 - accuracy: 0.9386 - val_loss: 0.8028 - val_accuracy: 0.3111\n",
            "Epoch 10/100\n",
            "139/139 [==============================] - 66s 474ms/step - loss: 0.1629 - accuracy: 0.9530 - val_loss: 0.6648 - val_accuracy: 0.5333\n",
            "Epoch 11/100\n",
            "139/139 [==============================] - 66s 474ms/step - loss: 0.1434 - accuracy: 0.9607 - val_loss: 0.6542 - val_accuracy: 0.6222\n",
            "Epoch 12/100\n",
            "139/139 [==============================] - 66s 474ms/step - loss: 0.1283 - accuracy: 0.9688 - val_loss: 0.5769 - val_accuracy: 0.7000\n",
            "Epoch 13/100\n",
            "139/139 [==============================] - 66s 474ms/step - loss: 0.1059 - accuracy: 0.9734 - val_loss: 0.6052 - val_accuracy: 0.6778\n",
            "Epoch 14/100\n",
            "139/139 [==============================] - 66s 473ms/step - loss: 0.1005 - accuracy: 0.9747 - val_loss: 1.1855 - val_accuracy: 0.7667\n",
            "Epoch 15/100\n",
            "139/139 [==============================] - 66s 473ms/step - loss: 0.0820 - accuracy: 0.9783 - val_loss: 2.0762 - val_accuracy: 0.7333\n",
            "Epoch 16/100\n",
            "139/139 [==============================] - 66s 474ms/step - loss: 0.0680 - accuracy: 0.9860 - val_loss: 1.8893 - val_accuracy: 0.7333\n",
            "Epoch 17/100\n",
            "139/139 [==============================] - 66s 475ms/step - loss: 0.0543 - accuracy: 0.9874 - val_loss: 2.6993 - val_accuracy: 0.7556\n",
            "Epoch 17: early stopping\n"
          ]
        }
      ],
      "source": [
        "history8 = tf_model8.fit(X_train, y_train, batch_size = 16, epochs = 100, initial_epoch = 0, validation_data = (X_test,y_test),callbacks=EarlyStopping(monitor=\"val_loss\", mode=\"min\", verbose=1, patience=10))"
      ]
    },
    {
      "cell_type": "code",
      "execution_count": null,
      "metadata": {
        "colab": {
          "background_save": true
        },
        "id": "jclHRGXICUFW"
      },
      "outputs": [],
      "source": [
        "y_predt = tf_model8.predict(X_test)\n",
        "y_predt= np.argmax(y_predt,axis=1)\n",
        "resultados[:,7]=y_predt\n",
        "y_predt = tf_model8.predict(X_test2)\n",
        "y_predt= np.argmax(y_predt,axis=1)\n",
        "resultados_test2[:,7]=y_predt"
      ]
    },
    {
      "cell_type": "code",
      "execution_count": null,
      "metadata": {
        "colab": {
          "background_save": true,
          "base_uri": "https://localhost:8080/"
        },
        "id": "eaOBjpR8WSoI",
        "outputId": "73e0d2f1-d4b0-49c7-aad1-6408ca684c59"
      },
      "outputs": [
        {
          "data": {
            "application/javascript": [
              "\n",
              "    async function download(id, filename, size) {\n",
              "      if (!google.colab.kernel.accessAllowed) {\n",
              "        return;\n",
              "      }\n",
              "      const div = document.createElement('div');\n",
              "      const label = document.createElement('label');\n",
              "      label.textContent = `Downloading \"${filename}\": `;\n",
              "      div.appendChild(label);\n",
              "      const progress = document.createElement('progress');\n",
              "      progress.max = size;\n",
              "      div.appendChild(progress);\n",
              "      document.body.appendChild(div);\n",
              "\n",
              "      const buffers = [];\n",
              "      let downloaded = 0;\n",
              "\n",
              "      const channel = await google.colab.kernel.comms.open(id);\n",
              "      // Send a message to notify the kernel that we're ready.\n",
              "      channel.send({})\n",
              "\n",
              "      for await (const message of channel.messages) {\n",
              "        // Send a message to notify the kernel that we're ready.\n",
              "        channel.send({})\n",
              "        if (message.buffers) {\n",
              "          for (const buffer of message.buffers) {\n",
              "            buffers.push(buffer);\n",
              "            downloaded += buffer.byteLength;\n",
              "            progress.value = downloaded;\n",
              "          }\n",
              "        }\n",
              "      }\n",
              "      const blob = new Blob(buffers, {type: 'application/binary'});\n",
              "      const a = document.createElement('a');\n",
              "      a.href = window.URL.createObjectURL(blob);\n",
              "      a.download = filename;\n",
              "      div.appendChild(a);\n",
              "      a.click();\n",
              "      div.remove();\n",
              "    }\n",
              "  "
            ],
            "text/plain": [
              "<IPython.core.display.Javascript object>"
            ]
          },
          "metadata": {},
          "output_type": "display_data"
        },
        {
          "data": {
            "application/javascript": [
              "download(\"download_a434d22e-9452-4262-a776-8c52ff52db4c\", \"modelo8.pkl\", 602560727)"
            ],
            "text/plain": [
              "<IPython.core.display.Javascript object>"
            ]
          },
          "metadata": {},
          "output_type": "display_data"
        }
      ],
      "source": [
        "with open('modelo8.pkl', 'wb') as file:\n",
        "    pickle.dump(tf_model8, file)\n",
        "np.savetxt('resultadosfold0.csv', resultados, delimiter=',')\n",
        "np.savetxt('resultados_test2fold0.csv', resultados_test2, delimiter=',')"
      ]
    },
    {
      "cell_type": "markdown",
      "metadata": {
        "id": "eW0mjD5tHCtZ"
      },
      "source": [
        "#Modelo 9"
      ]
    },
    {
      "cell_type": "code",
      "execution_count": null,
      "metadata": {
        "colab": {
          "background_save": true
        },
        "id": "LbkTHKdoLxsY"
      },
      "outputs": [],
      "source": [
        "resnet_50v2 = tf.keras.applications.resnet_v2.ResNet50V2(input_shape=(256,256,3), include_top = False, weights= 'imagenet')\n",
        "x = resnet_50v2.output\n",
        "x = Flatten()(x)\n",
        "\n",
        "x = Dense(128,activation='relu')(x)\n",
        "x = Dropout(0.5)(x)\n",
        "x = Dense(64,activation='relu')(x)\n",
        "x = Dropout(0.5)(x)\n",
        "out = Dense(2,activation='sigmoid')(x)\n",
        "tf_model9=Model(resnet_50v2.input,outputs=out)\n",
        "\n",
        "tf_model9.compile(optimizer=tf.keras.optimizers.Adagrad(),loss=tf.keras.losses.binary_crossentropy, metrics=['accuracy'])"
      ]
    },
    {
      "cell_type": "code",
      "execution_count": null,
      "metadata": {
        "colab": {
          "background_save": true
        },
        "id": "UU7vLeodDKKx"
      },
      "outputs": [],
      "source": [
        "history9 = tf_model9.fit(X_train, y_train, batch_size = 16, epochs = 100, initial_epoch = 0, validation_data = (X_test,y_test),callbacks=EarlyStopping(monitor=\"val_loss\", mode=\"min\", verbose=1, patience=10))"
      ]
    },
    {
      "cell_type": "code",
      "execution_count": null,
      "metadata": {
        "colab": {
          "background_save": true
        },
        "id": "jNzlA3gbCXTP"
      },
      "outputs": [],
      "source": [
        "y_predt = tf_model9.predict(X_test)\n",
        "y_predt= np.argmax(y_predt,axis=1)\n",
        "resultados[:,8]=y_predt\n",
        "y_predt = tf_model9.predict(X_test2)\n",
        "y_predt= np.argmax(y_predt,axis=1)\n",
        "resultados_test2[:,8]=y_predt"
      ]
    },
    {
      "cell_type": "code",
      "execution_count": null,
      "metadata": {
        "colab": {
          "background_save": true
        },
        "id": "zsJDM62oWWR5"
      },
      "outputs": [],
      "source": [
        "with open('modelo9.pkl', 'wb') as file:\n",
        "    pickle.dump(tf_model9, file)\n",
        "np.savetxt('resultadosfold0.csv', resultados, delimiter=',')\n",
        "np.savetxt('resultados_test2fold0.csv', resultados_test2, delimiter=',')"
      ]
    },
    {
      "cell_type": "markdown",
      "metadata": {
        "id": "qiPUzJTuHNDi"
      },
      "source": [
        "#Modelo 10"
      ]
    },
    {
      "cell_type": "code",
      "execution_count": null,
      "metadata": {
        "colab": {
          "background_save": true
        },
        "id": "TfWqodTXLxvb"
      },
      "outputs": [],
      "source": [
        "resnet_101v2 = tf.keras.applications.resnet_v2.ResNet101V2(input_shape=(256,256,3), include_top = False, weights= 'imagenet')\n",
        "x = resnet_101v2.output\n",
        "x = Flatten()(x)\n",
        "\n",
        "x = Dense(128,activation='relu')(x)\n",
        "x = Dropout(0.5)(x)\n",
        "x = Dense(64,activation='relu')(x)\n",
        "x = Dropout(0.5)(x)\n",
        "out = Dense(2,activation='sigmoid')(x)\n",
        "tf_model10=Model(resnet_101v2.input,outputs=out)\n",
        "\n",
        "tf_model10.compile(optimizer=tf.keras.optimizers.Adagrad(),loss=tf.keras.losses.binary_crossentropy, metrics=['accuracy'])"
      ]
    },
    {
      "cell_type": "code",
      "execution_count": null,
      "metadata": {
        "colab": {
          "background_save": true
        },
        "id": "IETPDHaBDWKz"
      },
      "outputs": [],
      "source": [
        "history10 = tf_model10.fit(X_train, y_train, batch_size = 16, epochs = 100, initial_epoch = 0, validation_data = (X_test,y_test),callbacks=EarlyStopping(monitor=\"val_loss\", mode=\"min\", verbose=1, patience=10))"
      ]
    },
    {
      "cell_type": "code",
      "execution_count": null,
      "metadata": {
        "colab": {
          "background_save": true
        },
        "id": "EljrGDBZCdVX"
      },
      "outputs": [],
      "source": [
        "y_predt = tf_model10.predict(X_test)\n",
        "y_predt= np.argmax(y_predt,axis=1)\n",
        "resultados[:,9]=y_predt\n",
        "y_predt = tf_model10.predict(X_test2)\n",
        "y_predt= np.argmax(y_predt,axis=1)\n",
        "resultados_test2[:,9]=y_predt"
      ]
    },
    {
      "cell_type": "code",
      "execution_count": null,
      "metadata": {
        "colab": {
          "background_save": true,
          "base_uri": "https://localhost:8080/"
        },
        "id": "Ea1GmAzGWZyH",
        "outputId": "5defaf91-93fb-4c0e-bd57-eb76fe562abf"
      },
      "outputs": [
        {
          "data": {
            "application/javascript": [
              "\n",
              "    async function download(id, filename, size) {\n",
              "      if (!google.colab.kernel.accessAllowed) {\n",
              "        return;\n",
              "      }\n",
              "      const div = document.createElement('div');\n",
              "      const label = document.createElement('label');\n",
              "      label.textContent = `Downloading \"${filename}\": `;\n",
              "      div.appendChild(label);\n",
              "      const progress = document.createElement('progress');\n",
              "      progress.max = size;\n",
              "      div.appendChild(progress);\n",
              "      document.body.appendChild(div);\n",
              "\n",
              "      const buffers = [];\n",
              "      let downloaded = 0;\n",
              "\n",
              "      const channel = await google.colab.kernel.comms.open(id);\n",
              "      // Send a message to notify the kernel that we're ready.\n",
              "      channel.send({})\n",
              "\n",
              "      for await (const message of channel.messages) {\n",
              "        // Send a message to notify the kernel that we're ready.\n",
              "        channel.send({})\n",
              "        if (message.buffers) {\n",
              "          for (const buffer of message.buffers) {\n",
              "            buffers.push(buffer);\n",
              "            downloaded += buffer.byteLength;\n",
              "            progress.value = downloaded;\n",
              "          }\n",
              "        }\n",
              "      }\n",
              "      const blob = new Blob(buffers, {type: 'application/binary'});\n",
              "      const a = document.createElement('a');\n",
              "      a.href = window.URL.createObjectURL(blob);\n",
              "      a.download = filename;\n",
              "      div.appendChild(a);\n",
              "      a.click();\n",
              "      div.remove();\n",
              "    }\n",
              "  "
            ],
            "text/plain": [
              "<IPython.core.display.Javascript object>"
            ]
          },
          "metadata": {},
          "output_type": "display_data"
        },
        {
          "data": {
            "application/javascript": [
              "download(\"download_3979949e-b61e-4e9e-ab7a-8fc7bc6d66fc\", \"modelo10.pkl\", 476222396)"
            ],
            "text/plain": [
              "<IPython.core.display.Javascript object>"
            ]
          },
          "metadata": {},
          "output_type": "display_data"
        }
      ],
      "source": [
        "with open('modelo10.pkl', 'wb') as file:\n",
        "    pickle.dump(tf_model10, file)\n",
        "np.savetxt('resultadosfold0.csv', resultados, delimiter=',')\n",
        "np.savetxt('resultados_test2fold0.csv', resultados_test2, delimiter=',')"
      ]
    },
    {
      "cell_type": "markdown",
      "metadata": {
        "id": "H5u6ngA1HVCy"
      },
      "source": [
        "#Modelo 11"
      ]
    },
    {
      "cell_type": "code",
      "execution_count": null,
      "metadata": {
        "colab": {
          "background_save": true
        },
        "id": "X8YdXbXyLxyf"
      },
      "outputs": [],
      "source": [
        "resnet_152v2 = tf.keras.applications.resnet_v2.ResNet101V2(input_shape=(256,256,3), include_top = False, weights= 'imagenet')\n",
        "x = resnet_152v2.output\n",
        "x = Flatten()(x)\n",
        "\n",
        "x = Dense(128,activation='relu')(x)\n",
        "x = Dropout(0.5)(x)\n",
        "x = Dense(64,activation='relu')(x)\n",
        "x = Dropout(0.5)(x)\n",
        "out = Dense(2,activation='sigmoid')(x)\n",
        "tf_model11=Model(resnet_152v2.input,outputs=out)\n",
        "\n",
        "tf_model11.compile(optimizer=tf.keras.optimizers.Adagrad(),loss=tf.keras.losses.binary_crossentropy, metrics=['accuracy'])"
      ]
    },
    {
      "cell_type": "code",
      "execution_count": null,
      "metadata": {
        "colab": {
          "background_save": true
        },
        "id": "lQlQmEqLDhnr"
      },
      "outputs": [],
      "source": [
        "history11 = tf_model11.fit(X_train, y_train, batch_size = 16, epochs = 100, initial_epoch = 0, validation_data = (X_test,y_test),callbacks=EarlyStopping(monitor=\"val_loss\", mode=\"min\", verbose=1, patience=10))"
      ]
    },
    {
      "cell_type": "code",
      "execution_count": null,
      "metadata": {
        "colab": {
          "background_save": true
        },
        "id": "wHuyjaCcCiBn"
      },
      "outputs": [],
      "source": [
        "y_predt = tf_model11.predict(X_test)\n",
        "y_predt= np.argmax(y_predt,axis=1)\n",
        "resultados[:,10]=y_predt\n",
        "y_predt = tf_model11.predict(X_test2)\n",
        "y_predt= np.argmax(y_predt,axis=1)\n",
        "resultados_test2[:,10]=y_predt"
      ]
    },
    {
      "cell_type": "code",
      "execution_count": null,
      "metadata": {
        "colab": {
          "background_save": true
        },
        "id": "5NkVuW29WcWf",
        "outputId": "9cbad995-66e2-4a84-8dc9-6d93d9a7c4b5"
      },
      "outputs": [
        {
          "data": {
            "application/javascript": [
              "\n",
              "    async function download(id, filename, size) {\n",
              "      if (!google.colab.kernel.accessAllowed) {\n",
              "        return;\n",
              "      }\n",
              "      const div = document.createElement('div');\n",
              "      const label = document.createElement('label');\n",
              "      label.textContent = `Downloading \"${filename}\": `;\n",
              "      div.appendChild(label);\n",
              "      const progress = document.createElement('progress');\n",
              "      progress.max = size;\n",
              "      div.appendChild(progress);\n",
              "      document.body.appendChild(div);\n",
              "\n",
              "      const buffers = [];\n",
              "      let downloaded = 0;\n",
              "\n",
              "      const channel = await google.colab.kernel.comms.open(id);\n",
              "      // Send a message to notify the kernel that we're ready.\n",
              "      channel.send({})\n",
              "\n",
              "      for await (const message of channel.messages) {\n",
              "        // Send a message to notify the kernel that we're ready.\n",
              "        channel.send({})\n",
              "        if (message.buffers) {\n",
              "          for (const buffer of message.buffers) {\n",
              "            buffers.push(buffer);\n",
              "            downloaded += buffer.byteLength;\n",
              "            progress.value = downloaded;\n",
              "          }\n",
              "        }\n",
              "      }\n",
              "      const blob = new Blob(buffers, {type: 'application/binary'});\n",
              "      const a = document.createElement('a');\n",
              "      a.href = window.URL.createObjectURL(blob);\n",
              "      a.download = filename;\n",
              "      div.appendChild(a);\n",
              "      a.click();\n",
              "      div.remove();\n",
              "    }\n",
              "  "
            ],
            "text/plain": [
              "<IPython.core.display.Javascript object>"
            ]
          },
          "metadata": {},
          "output_type": "display_data"
        },
        {
          "data": {
            "application/javascript": [
              "download(\"download_b63b27b4-e185-42c6-9d31-cfe8e9503146\", \"modelo11.pkl\", 476222405)"
            ],
            "text/plain": [
              "<IPython.core.display.Javascript object>"
            ]
          },
          "metadata": {},
          "output_type": "display_data"
        }
      ],
      "source": [
        "with open('modelo11.pkl', 'wb') as file:\n",
        "    pickle.dump(tf_model11, file)\n",
        "np.savetxt('resultadosfold0.csv', resultados, delimiter=',')\n",
        "np.savetxt('resultados_test2fold0.csv', resultados_test2, delimiter=',')"
      ]
    },
    {
      "cell_type": "markdown",
      "metadata": {
        "id": "CJYuFH48HdWB"
      },
      "source": [
        "#Modelo 12"
      ]
    },
    {
      "cell_type": "code",
      "execution_count": null,
      "metadata": {
        "colab": {
          "background_save": true
        },
        "id": "s5201nvELx2B"
      },
      "outputs": [],
      "source": [
        "Xception = tf.keras.applications.xception.Xception(input_shape=(256,256,3), include_top = False, weights= 'imagenet')\n",
        "x = Xception.output\n",
        "x = Flatten()(x)\n",
        "\n",
        "x = Dense(128,activation='relu')(x)\n",
        "x = Dropout(0.5)(x)\n",
        "x = Dense(64,activation='relu')(x)\n",
        "x = Dropout(0.5)(x)\n",
        "out = Dense(2,activation='sigmoid')(x)\n",
        "tf_model12=Model(Xception.input,outputs=out)\n",
        "\n",
        "tf_model12.compile(optimizer=tf.keras.optimizers.Adagrad(),loss=tf.keras.losses.binary_crossentropy, metrics=['accuracy'])"
      ]
    },
    {
      "cell_type": "code",
      "execution_count": null,
      "metadata": {
        "id": "UrBFaRBiDviZ"
      },
      "outputs": [],
      "source": [
        "history12 = tf_model12.fit(X_train, y_train, batch_size = 16, epochs = 100, initial_epoch = 0, validation_data = (X_test,y_test),callbacks=EarlyStopping(monitor=\"val_loss\", mode=\"min\", verbose=1, patience=10))"
      ]
    },
    {
      "cell_type": "code",
      "execution_count": null,
      "metadata": {
        "id": "1stvrFL7CmdA"
      },
      "outputs": [],
      "source": [
        "y_predt = tf_model12.predict(X_test)\n",
        "y_predt= np.argmax(y_predt,axis=1)\n",
        "resultados[:,11]=y_predt\n",
        "y_predt = tf_model12.predict(X_test2)\n",
        "y_predt= np.argmax(y_predt,axis=1)\n",
        "resultados_test2[:,11]=y_predt"
      ]
    },
    {
      "cell_type": "code",
      "execution_count": null,
      "metadata": {
        "colab": {
          "base_uri": "https://localhost:8080/",
          "height": 34
        },
        "id": "l9sd97-pWepz",
        "outputId": "bc204577-9aa2-41be-8736-db291343c7c7"
      },
      "outputs": [
        {
          "data": {
            "application/javascript": [
              "\n",
              "    async function download(id, filename, size) {\n",
              "      if (!google.colab.kernel.accessAllowed) {\n",
              "        return;\n",
              "      }\n",
              "      const div = document.createElement('div');\n",
              "      const label = document.createElement('label');\n",
              "      label.textContent = `Downloading \"${filename}\": `;\n",
              "      div.appendChild(label);\n",
              "      const progress = document.createElement('progress');\n",
              "      progress.max = size;\n",
              "      div.appendChild(progress);\n",
              "      document.body.appendChild(div);\n",
              "\n",
              "      const buffers = [];\n",
              "      let downloaded = 0;\n",
              "\n",
              "      const channel = await google.colab.kernel.comms.open(id);\n",
              "      // Send a message to notify the kernel that we're ready.\n",
              "      channel.send({})\n",
              "\n",
              "      for await (const message of channel.messages) {\n",
              "        // Send a message to notify the kernel that we're ready.\n",
              "        channel.send({})\n",
              "        if (message.buffers) {\n",
              "          for (const buffer of message.buffers) {\n",
              "            buffers.push(buffer);\n",
              "            downloaded += buffer.byteLength;\n",
              "            progress.value = downloaded;\n",
              "          }\n",
              "        }\n",
              "      }\n",
              "      const blob = new Blob(buffers, {type: 'application/binary'});\n",
              "      const a = document.createElement('a');\n",
              "      a.href = window.URL.createObjectURL(blob);\n",
              "      a.download = filename;\n",
              "      div.appendChild(a);\n",
              "      a.click();\n",
              "      div.remove();\n",
              "    }\n",
              "  "
            ],
            "text/plain": [
              "<IPython.core.display.Javascript object>"
            ]
          },
          "metadata": {},
          "output_type": "display_data"
        },
        {
          "data": {
            "application/javascript": [
              "download(\"download_b9a33678-2603-44b1-a4e0-939fe48db3d3\", \"modelo12.pkl\", 301483075)"
            ],
            "text/plain": [
              "<IPython.core.display.Javascript object>"
            ]
          },
          "metadata": {},
          "output_type": "display_data"
        }
      ],
      "source": [
        "with open('modelo12.pkl', 'wb') as file:\n",
        "    pickle.dump(tf_model12, file)\n",
        "np.savetxt('resultadosfold0.csv', resultados, delimiter=',')\n",
        "np.savetxt('resultados_test2fold0.csv', resultados_test2, delimiter=',')"
      ]
    },
    {
      "cell_type": "markdown",
      "metadata": {
        "id": "YDrZEqz3Hl3Q"
      },
      "source": [
        "#Modelo 13"
      ]
    },
    {
      "cell_type": "code",
      "execution_count": null,
      "metadata": {
        "id": "qAGWo6jyMniF"
      },
      "outputs": [],
      "source": [
        "MobileNet = tf.keras.applications.mobilenet.MobileNet(input_shape=(256,256,3), include_top = False, weights= 'imagenet')\n",
        "x = MobileNet.output\n",
        "x = Flatten()(x)\n",
        "\n",
        "x = Dense(128,activation='relu')(x)\n",
        "x = Dropout(0.5)(x)\n",
        "x = Dense(64,activation='relu')(x)\n",
        "x = Dropout(0.5)(x)\n",
        "out = Dense(2,activation='sigmoid')(x)\n",
        "tf_model13=Model(MobileNet.input,outputs=out)\n",
        "\n",
        "tf_model13.compile(optimizer=tf.keras.optimizers.Adagrad(),loss=tf.keras.losses.binary_crossentropy, metrics=['accuracy'])\n"
      ]
    },
    {
      "cell_type": "code",
      "execution_count": null,
      "metadata": {
        "id": "VKZ3FsZTD-XL"
      },
      "outputs": [],
      "source": [
        "history13 = tf_model13.fit(X_train, y_train, batch_size = 16, epochs = 100, initial_epoch = 0, validation_data = (X_test,y_test),callbacks=EarlyStopping(monitor=\"val_loss\", mode=\"min\", verbose=1, patience=10))"
      ]
    },
    {
      "cell_type": "code",
      "execution_count": null,
      "metadata": {
        "id": "YMsPQHb8Cr0H"
      },
      "outputs": [],
      "source": [
        "y_predt = tf_model13.predict(X_test)\n",
        "y_predt= np.argmax(y_predt,axis=1)\n",
        "resultados[:,12]=y_predt\n",
        "y_predt = tf_model13.predict(X_test2)\n",
        "y_predt= np.argmax(y_predt,axis=1)\n",
        "resultados_test2[:,12]=y_predt"
      ]
    },
    {
      "cell_type": "code",
      "execution_count": null,
      "metadata": {
        "id": "k6VFIICQWh9f"
      },
      "outputs": [],
      "source": [
        "with open('modelo13.pkl', 'wb') as file:\n",
        "    pickle.dump(tf_model13, file)\n",
        "np.savetxt('resultadosfold0.csv', resultados, delimiter=',')\n",
        "np.savetxt('resultados_test2fold0.csv', resultados_test2, delimiter=',')"
      ]
    },
    {
      "cell_type": "code",
      "execution_count": null,
      "metadata": {
        "id": "QKw6FuIhlAUX"
      },
      "outputs": [],
      "source": [
        "files.download('resultadosfold0.csv')"
      ]
    },
    {
      "cell_type": "code",
      "execution_count": null,
      "metadata": {
        "colab": {
          "base_uri": "https://localhost:8080/"
        },
        "id": "nJaSH216_Ord",
        "outputId": "7579053e-2da7-4b4c-8304-4154941372b3"
      },
      "outputs": [
        {
          "data": {
            "application/javascript": [
              "\n",
              "    async function download(id, filename, size) {\n",
              "      if (!google.colab.kernel.accessAllowed) {\n",
              "        return;\n",
              "      }\n",
              "      const div = document.createElement('div');\n",
              "      const label = document.createElement('label');\n",
              "      label.textContent = `Downloading \"${filename}\": `;\n",
              "      div.appendChild(label);\n",
              "      const progress = document.createElement('progress');\n",
              "      progress.max = size;\n",
              "      div.appendChild(progress);\n",
              "      document.body.appendChild(div);\n",
              "\n",
              "      const buffers = [];\n",
              "      let downloaded = 0;\n",
              "\n",
              "      const channel = await google.colab.kernel.comms.open(id);\n",
              "      // Send a message to notify the kernel that we're ready.\n",
              "      channel.send({})\n",
              "\n",
              "      for await (const message of channel.messages) {\n",
              "        // Send a message to notify the kernel that we're ready.\n",
              "        channel.send({})\n",
              "        if (message.buffers) {\n",
              "          for (const buffer of message.buffers) {\n",
              "            buffers.push(buffer);\n",
              "            downloaded += buffer.byteLength;\n",
              "            progress.value = downloaded;\n",
              "          }\n",
              "        }\n",
              "      }\n",
              "      const blob = new Blob(buffers, {type: 'application/binary'});\n",
              "      const a = document.createElement('a');\n",
              "      a.href = window.URL.createObjectURL(blob);\n",
              "      a.download = filename;\n",
              "      div.appendChild(a);\n",
              "      a.click();\n",
              "      div.remove();\n",
              "    }\n",
              "  "
            ],
            "text/plain": [
              "<IPython.core.display.Javascript object>"
            ]
          },
          "metadata": {},
          "output_type": "display_data"
        },
        {
          "data": {
            "application/javascript": [
              "download(\"download_6e478b87-c63e-4e79-95bb-4d3297c42f7b\", \"resultados_test2fold0.csv\", 123175)"
            ],
            "text/plain": [
              "<IPython.core.display.Javascript object>"
            ]
          },
          "metadata": {},
          "output_type": "display_data"
        }
      ],
      "source": [
        "files.download('resultados_test2fold0.csv')"
      ]
    }
  ],
  "metadata": {
    "accelerator": "GPU",
    "colab": {
      "machine_shape": "hm",
      "provenance": [],
      "include_colab_link": true
    },
    "kernelspec": {
      "display_name": "Python 3",
      "name": "python3"
    }
  },
  "nbformat": 4,
  "nbformat_minor": 0
}